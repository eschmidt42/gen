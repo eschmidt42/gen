{
 "cells": [
  {
   "cell_type": "markdown",
   "id": "290a5dcf",
   "metadata": {},
   "source": [
    "# VAE on 2d toy data sets"
   ]
  },
  {
   "cell_type": "markdown",
   "id": "5f71a959",
   "metadata": {},
   "source": [
    "1. Data generation\n",
    "2. Model training\n",
    "3. Visual inspection of model generation vs actual\n",
    "4. Building a classifier to distinguish original from generated data"
   ]
  },
  {
   "cell_type": "markdown",
   "id": "f85b0f53",
   "metadata": {},
   "source": [
    "https://github.com/didriknielsen/survae_flows"
   ]
  },
  {
   "cell_type": "code",
   "execution_count": null,
   "id": "2d16ee07",
   "metadata": {},
   "outputs": [],
   "source": [
    "%load_ext autoreload\n",
    "%autoreload 2"
   ]
  },
  {
   "cell_type": "code",
   "execution_count": null,
   "id": "b82f2326",
   "metadata": {},
   "outputs": [],
   "source": [
    "import matplotlib.pyplot as plt\n",
    "import seaborn as sns\n",
    "\n",
    "from fastai.tabular.all import *\n",
    "import ipywidgets as widgets\n",
    "\n",
    "from gen import utils, data, vae"
   ]
  },
  {
   "cell_type": "code",
   "execution_count": null,
   "id": "c3fa4253",
   "metadata": {},
   "outputs": [],
   "source": [
    "n = 4200\n",
    "y_col = 'target'\n",
    "all_train_data = data.DataGenerator.generate('gaussian', n).assign(**{y_col: np.random.choice([0,1], size=n)})\n",
    "all_train_data.head()"
   ]
  },
  {
   "cell_type": "code",
   "execution_count": null,
   "id": "494b0785",
   "metadata": {},
   "outputs": [],
   "source": [
    "fig, ax = plt.subplots()\n",
    "ax.scatter(all_train_data['x_0'], all_train_data['x_1'], alpha=.1)\n",
    "plt.show()"
   ]
  },
  {
   "cell_type": "code",
   "execution_count": null,
   "id": "b8355f6b",
   "metadata": {},
   "outputs": [],
   "source": [
    "splits = RandomSplitter(valid_pct=.2)(all_train_data)\n",
    "\n",
    "original_features = L([c for c in all_train_data.columns if c != 'id' and c != y_col])\n",
    "\n",
    "to = TabularPandas(all_train_data, procs=[FillMissing, Normalize],\n",
    "                   cont_names=original_features,\n",
    "                   y_names=y_col,\n",
    "                   splits=splits)\n",
    "\n",
    "bs = 256\n",
    "kld_weight = .05\n",
    "dls = to.dataloaders(bs=bs)"
   ]
  },
  {
   "cell_type": "code",
   "execution_count": null,
   "id": "d17d9c0c",
   "metadata": {},
   "outputs": [],
   "source": [
    "model = vae.VAE(n_in=len(original_features), n_h=200, n_z=2)\n",
    "loss_func = vae.VAE_Loss(kld_weight)"
   ]
  },
  {
   "cell_type": "code",
   "execution_count": null,
   "id": "f6fd8ab4",
   "metadata": {},
   "outputs": [],
   "source": [
    "%%time\n",
    "learn = Learner(dls, model, loss_func=loss_func)"
   ]
  },
  {
   "cell_type": "code",
   "execution_count": null,
   "id": "b89f8f1a",
   "metadata": {},
   "outputs": [],
   "source": [
    "lrs = learn.lr_find()\n",
    "lrs"
   ]
  },
  {
   "cell_type": "code",
   "execution_count": null,
   "id": "6c48abca",
   "metadata": {},
   "outputs": [],
   "source": [
    "learn.fit_one_cycle(10, lr_max=lrs.valley)"
   ]
  },
  {
   "cell_type": "code",
   "execution_count": null,
   "id": "88b2175e",
   "metadata": {},
   "outputs": [],
   "source": [
    "%%time\n",
    "(ori, rec, mu, var), _ = learn.get_preds(ds_idx=1)"
   ]
  },
  {
   "cell_type": "code",
   "execution_count": null,
   "id": "4b08d18c",
   "metadata": {},
   "outputs": [],
   "source": [
    "utils.check_identifiability_of_generated_data(ori, rec, original_features)"
   ]
  },
  {
   "cell_type": "markdown",
   "id": "84c772f1",
   "metadata": {},
   "source": [
    "## Clicking through data patterns"
   ]
  },
  {
   "cell_type": "code",
   "execution_count": null,
   "id": "2b07c944",
   "metadata": {
    "scrolled": false
   },
   "outputs": [],
   "source": [
    "patterns = ['twospirals', 'twomoons', 'sign', 'abs', 'sinewave', 'crescentcube', 'crescent', 'gaussian', 'checkerboard']\n",
    "\n",
    "pattern = widgets.Dropdown(description='pattern', options=patterns, value='checkerboard')\n",
    "n_data = widgets.IntText(description='data points', value=4_200)\n",
    "n_epoch = widgets.IntText(description='epochs', value=7)\n",
    "kld_weight = widgets.FloatText(description='kld_weight', value=1.)\n",
    "ui = widgets.VBox([pattern, n_data, n_epoch, kld_weight])\n",
    "\n",
    "def run_stuff(p, n, epochs, kld_weight):\n",
    "    # generating data\n",
    "    y_col = 'target'\n",
    "    all_train_data = data.DataGenerator.generate(p, n).assign(**{y_col: np.random.choice([0,1], size=n)})\n",
    "    \n",
    "    # pre-processing data\n",
    "    splits = RandomSplitter(valid_pct=.2)(all_train_data)\n",
    "\n",
    "    original_features = L([c for c in all_train_data.columns if c != 'id' and c != y_col])\n",
    "\n",
    "    to = TabularPandas(all_train_data, procs=[FillMissing, Normalize],\n",
    "                       cont_names=original_features,\n",
    "                       y_names=y_col,\n",
    "                       splits=splits)\n",
    "\n",
    "    bs = 256\n",
    "    dls = to.dataloaders(bs=bs)\n",
    "    \n",
    "    # setting up the model\n",
    "    model = vae.VAE(n_in=len(original_features), n_h=200, n_z=2)\n",
    "    loss_func = vae.VAE_Loss(kld_weight=kld_weight) # bs\n",
    "    \n",
    "    # training\n",
    "    learn = Learner(dls, model, loss_func=loss_func)\n",
    "    lrs = learn.lr_find()\n",
    "    learn.fit_one_cycle(epochs, lr_max=lrs.valley)\n",
    "    \n",
    "    # inspecting model generated data\n",
    "    (ori, rec, mu, logvar), _ = learn.get_preds(ds_idx=1)\n",
    "    print(loss_func.loss(rec, ori, mu, logvar))\n",
    "    utils.check_identifiability_of_generated_data(ori, rec, \n",
    "                                                  original_features)\n",
    "\n",
    "out = widgets.interactive_output(run_stuff, {'p':pattern, 'n':n_data, 'epochs':n_epoch, 'kld_weight':kld_weight})\n",
    "display(ui, out)"
   ]
  },
  {
   "cell_type": "code",
   "execution_count": null,
   "id": "f57357a6",
   "metadata": {},
   "outputs": [],
   "source": []
  }
 ],
 "metadata": {
  "kernelspec": {
   "display_name": "Python 3 (ipykernel)",
   "language": "python",
   "name": "python3"
  },
  "language_info": {
   "codemirror_mode": {
    "name": "ipython",
    "version": 3
   },
   "file_extension": ".py",
   "mimetype": "text/x-python",
   "name": "python",
   "nbconvert_exporter": "python",
   "pygments_lexer": "ipython3",
   "version": "3.8.10"
  },
  "toc": {
   "base_numbering": 1,
   "nav_menu": {},
   "number_sections": true,
   "sideBar": true,
   "skip_h1_title": false,
   "title_cell": "Table of Contents",
   "title_sidebar": "Contents",
   "toc_cell": false,
   "toc_position": {},
   "toc_section_display": true,
   "toc_window_display": false
  }
 },
 "nbformat": 4,
 "nbformat_minor": 5
}
