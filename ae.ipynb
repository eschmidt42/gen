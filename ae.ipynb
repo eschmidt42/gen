{
 "cells": [
  {
   "cell_type": "markdown",
   "id": "17222e7d",
   "metadata": {},
   "source": [
    "# AE on 2d toy data sets"
   ]
  },
  {
   "cell_type": "markdown",
   "id": "577b0aee",
   "metadata": {},
   "source": [
    "1. Data generation\n",
    "2. Model training\n",
    "3. Visual inspection of model generation vs actual\n",
    "4. Building a classifier to distinguish original from generated data"
   ]
  },
  {
   "cell_type": "markdown",
   "id": "53f8884d",
   "metadata": {},
   "source": [
    "https://github.com/didriknielsen/survae_flows"
   ]
  },
  {
   "cell_type": "code",
   "execution_count": null,
   "id": "7b25a322",
   "metadata": {},
   "outputs": [],
   "source": [
    "%load_ext autoreload\n",
    "%autoreload 2"
   ]
  },
  {
   "cell_type": "code",
   "execution_count": null,
   "id": "6a7b3677",
   "metadata": {},
   "outputs": [],
   "source": [
    "import matplotlib.pyplot as plt\n",
    "import seaborn as sns\n",
    "\n",
    "from fastai.tabular.all import *\n",
    "import ipywidgets as widgets\n",
    "\n",
    "from gen import utils, data, ae"
   ]
  },
  {
   "cell_type": "code",
   "execution_count": null,
   "id": "9bcdb32e",
   "metadata": {},
   "outputs": [],
   "source": [
    "n = 4200\n",
    "y_col = 'target'\n",
    "all_train_data = data.DataGenerator.generate('gaussian', n).assign(**{y_col: np.random.choice([0,1], size=n)})\n",
    "all_train_data.head()"
   ]
  },
  {
   "cell_type": "code",
   "execution_count": null,
   "id": "5be473b3",
   "metadata": {},
   "outputs": [],
   "source": [
    "fig, ax = plt.subplots()\n",
    "ax.scatter(all_train_data['x_0'], all_train_data['x_1'], alpha=.1)\n",
    "plt.show()"
   ]
  },
  {
   "cell_type": "code",
   "execution_count": null,
   "id": "8cbb21bf",
   "metadata": {},
   "outputs": [],
   "source": [
    "splits = RandomSplitter(valid_pct=.2)(all_train_data)\n",
    "\n",
    "original_features = L([c for c in all_train_data.columns if c != 'id' and c != y_col])\n",
    "\n",
    "to = TabularPandas(all_train_data, procs=[FillMissing, Normalize],\n",
    "                   cont_names=original_features,\n",
    "                   y_names=y_col,\n",
    "                   splits=splits)\n",
    "\n",
    "bs = 256\n",
    "dls = to.dataloaders(bs=bs)"
   ]
  },
  {
   "cell_type": "code",
   "execution_count": null,
   "id": "195ee236",
   "metadata": {},
   "outputs": [],
   "source": [
    "model = ae.AE(n_in=len(original_features), n_h=200, n_z=2)\n",
    "loss_func = ae.AE_Loss()"
   ]
  },
  {
   "cell_type": "code",
   "execution_count": null,
   "id": "7925fb7e",
   "metadata": {},
   "outputs": [],
   "source": [
    "%%time\n",
    "learn = Learner(dls, model, loss_func=loss_func)"
   ]
  },
  {
   "cell_type": "code",
   "execution_count": null,
   "id": "1deaf822",
   "metadata": {},
   "outputs": [],
   "source": [
    "lrs = learn.lr_find()\n",
    "lrs"
   ]
  },
  {
   "cell_type": "code",
   "execution_count": null,
   "id": "760e2338",
   "metadata": {},
   "outputs": [],
   "source": [
    "learn.fit_one_cycle(10, lr_max=1e-2)"
   ]
  },
  {
   "cell_type": "code",
   "execution_count": null,
   "id": "c530245e",
   "metadata": {},
   "outputs": [],
   "source": [
    "%%time\n",
    "(ori, rec), _ = learn.get_preds(ds_idx=1)"
   ]
  },
  {
   "cell_type": "code",
   "execution_count": null,
   "id": "c7b64cc1",
   "metadata": {},
   "outputs": [],
   "source": [
    "utils.check_identifiability_of_generated_data(ori, rec, original_features)"
   ]
  },
  {
   "cell_type": "markdown",
   "id": "1431ff19",
   "metadata": {},
   "source": [
    "## Clicking through data patterns"
   ]
  },
  {
   "cell_type": "code",
   "execution_count": null,
   "id": "5639d7e9",
   "metadata": {},
   "outputs": [],
   "source": [
    "patterns = ['twospirals', 'twomoons', 'sign', 'abs', 'sinewave', 'crescentcube', 'crescent', 'gaussian', 'checkerboard']\n",
    "\n",
    "pattern = widgets.Dropdown(description='pattern', options=patterns, value='checkerboard')\n",
    "n_data = widgets.IntText(description='data points', value=4_200)\n",
    "n_epoch = widgets.IntText(description='epochs', value=7)\n",
    "ui = widgets.VBox([pattern, n_data, n_epoch])\n",
    "\n",
    "def run_stuff(p, n, epochs):\n",
    "    # generating data\n",
    "    y_col = 'target'\n",
    "    all_train_data = data.DataGenerator.generate(p, n).assign(**{y_col: np.random.choice([0,1], size=n)})\n",
    "    \n",
    "    # pre-processing data\n",
    "    splits = RandomSplitter(valid_pct=.2)(all_train_data)\n",
    "\n",
    "    original_features = L([c for c in all_train_data.columns if c != 'id' and c != y_col])\n",
    "\n",
    "    to = TabularPandas(all_train_data, procs=[FillMissing, Normalize],\n",
    "                       cont_names=original_features,\n",
    "                       y_names=y_col,\n",
    "                       splits=splits)\n",
    "\n",
    "    bs = 256\n",
    "    dls = to.dataloaders(bs=bs)\n",
    "    \n",
    "    # setting up the model\n",
    "    model = ae.AE(n_in=len(original_features), n_h=200, n_z=2)\n",
    "    loss_func = ae.AE_Loss()\n",
    "    \n",
    "    # training\n",
    "    learn = Learner(dls, model, loss_func=loss_func)\n",
    "    lrs = learn.lr_find()\n",
    "    learn.fit_one_cycle(epochs, lr_max=lrs.valley)\n",
    "    \n",
    "    # inspecting model generated data\n",
    "    (ori, rec), _ = learn.get_preds(ds_idx=1)\n",
    "    \n",
    "    utils.check_identifiability_of_generated_data(ori, rec, \n",
    "                                                  original_features)\n",
    "\n",
    "out = widgets.interactive_output(run_stuff, {'p':pattern, 'n':n_data, 'epochs':n_epoch})\n",
    "display(ui, out)"
   ]
  },
  {
   "cell_type": "code",
   "execution_count": null,
   "id": "f30a38fd",
   "metadata": {},
   "outputs": [],
   "source": []
  }
 ],
 "metadata": {
  "kernelspec": {
   "display_name": "Python 3 (ipykernel)",
   "language": "python",
   "name": "python3"
  },
  "language_info": {
   "codemirror_mode": {
    "name": "ipython",
    "version": 3
   },
   "file_extension": ".py",
   "mimetype": "text/x-python",
   "name": "python",
   "nbconvert_exporter": "python",
   "pygments_lexer": "ipython3",
   "version": "3.8.10"
  },
  "toc": {
   "base_numbering": 1,
   "nav_menu": {},
   "number_sections": true,
   "sideBar": true,
   "skip_h1_title": false,
   "title_cell": "Table of Contents",
   "title_sidebar": "Contents",
   "toc_cell": false,
   "toc_position": {},
   "toc_section_display": true,
   "toc_window_display": false
  }
 },
 "nbformat": 4,
 "nbformat_minor": 5
}
